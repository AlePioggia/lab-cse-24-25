{
 "cells": [
  {
   "cell_type": "markdown",
   "id": "60417f35",
   "metadata": {},
   "source": [
    "# Sample Spark job\n",
    "\n",
    "Import the library to launch a spark-shell; it will take a bit to load (1 minute, approximately), then it will show the link at which you can access the Spark UI."
   ]
  },
  {
   "cell_type": "code",
   "id": "06615c0a",
   "metadata": {
    "jupyter": {
     "is_executing": true
    }
   },
   "source": "import org.apache.spark",
   "outputs": [],
   "execution_count": null
  },
  {
   "metadata": {},
   "cell_type": "code",
   "source": [
    "// DO NOT EXECUTE - this is needed just to avoid showing errors in the following cells\n",
    "val sc = spark.SparkContext.getOrCreate()"
   ],
   "id": "ac22cf88a51a460",
   "outputs": [],
   "execution_count": null
  },
  {
   "metadata": {},
   "cell_type": "markdown",
   "source": "In the following cell is a simple job that loads the content of the \"capra\" dataset, splits the lines into single words, translates them into upper case, and shows them in output.",
   "id": "15d7fa0f2af084fd"
  },
  {
   "cell_type": "code",
   "id": "1f0474d7",
   "metadata": {},
   "source": "sc.textFile(\"../../../../datasets/capra.txt\").flatMap(_.split(\" \")).map(_.toUpperCase()).collect()",
   "outputs": [],
   "execution_count": null
  },
  {
   "cell_type": "code",
   "id": "54af5567",
   "metadata": {},
   "source": [
    "// This is to show how you can run commands on the command line from the notebook \n",
    "!spark-submit --version"
   ],
   "outputs": [],
   "execution_count": null
  }
 ],
 "metadata": {
  "kernelspec": {
   "display_name": "spylon-kernel",
   "language": "scala",
   "name": "spylon-kernel"
  },
  "language_info": {
   "codemirror_mode": "text/x-scala",
   "file_extension": ".scala",
   "help_links": [
    {
     "text": "MetaKernel Magics",
     "url": "https://metakernel.readthedocs.io/en/latest/source/README.html"
    }
   ],
   "mimetype": "text/x-scala",
   "name": "scala",
   "pygments_lexer": "scala",
   "version": "0.4.1"
  }
 },
 "nbformat": 4,
 "nbformat_minor": 5
}
